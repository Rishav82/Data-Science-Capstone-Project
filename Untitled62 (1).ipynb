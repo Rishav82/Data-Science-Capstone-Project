{
 "cells": [
  {
   "cell_type": "code",
   "execution_count": 1,
   "id": "82d0a54a",
   "metadata": {},
   "outputs": [],
   "source": [
    "import pandas as pd\n",
    "from sklearn.preprocessing import StandardScaler, LabelEncoder, OrdinalEncoder\n",
    "import matplotlib.pyplot as plt\n",
    "import seaborn as sns\n",
    "from sklearn.model_selection import train_test_split, GridSearchCV\n",
    "from sklearn.linear_model import LinearRegression\n",
    "from sklearn.ensemble import RandomForestRegressor, GradientBoostingRegressor\n",
    "from sklearn.metrics import mean_squared_error, r2_score\n",
    "import joblib\n",
    "import numpy as np\n",
    "# pd.set_option('display.max_rows', None)"
   ]
  },
  {
   "cell_type": "code",
   "execution_count": 2,
   "id": "d856bc59",
   "metadata": {},
   "outputs": [],
   "source": [
    "# Loading the dataset\n",
    "car_data = pd.read_csv(\"C:\\/Users\\/risha\\/Downloads\\/CAR DETAILS.csv\")"
   ]
  },
  {
   "cell_type": "code",
   "execution_count": 3,
   "id": "b657653e",
   "metadata": {},
   "outputs": [
    {
     "data": {
      "text/plain": [
       "First Owner             2832\n",
       "Second Owner            1106\n",
       "Third Owner              304\n",
       "Fourth & Above Owner      81\n",
       "Test Drive Car            17\n",
       "Name: owner, dtype: int64"
      ]
     },
     "execution_count": 3,
     "metadata": {},
     "output_type": "execute_result"
    }
   ],
   "source": [
    "car_data['owner'].value_counts()"
   ]
  },
  {
   "cell_type": "code",
   "execution_count": 4,
   "id": "f543f784",
   "metadata": {},
   "outputs": [
    {
     "ename": "SyntaxError",
     "evalue": "invalid syntax (2973685663.py, line 1)",
     "output_type": "error",
     "traceback": [
      "\u001b[1;36m  Cell \u001b[1;32mIn[4], line 1\u001b[1;36m\u001b[0m\n\u001b[1;33m    0    2218\u001b[0m\n\u001b[1;37m         ^\u001b[0m\n\u001b[1;31mSyntaxError\u001b[0m\u001b[1;31m:\u001b[0m invalid syntax\n"
     ]
    }
   ],
   "source": [
    "0    2218\n",
    "2     978\n",
    "4     289\n",
    "1      75\n",
    "3      17\n",
    "Name: owner, dtype: int64"
   ]
  },
  {
   "cell_type": "code",
   "execution_count": null,
   "id": "a06219b8",
   "metadata": {
    "scrolled": true
   },
   "outputs": [],
   "source": [
    "# Displaying the first few rows\n",
    "print(car_data.head())\n",
    "\n",
    "# Displaying basic information about the dataset\n",
    "print(car_data.info())"
   ]
  },
  {
   "cell_type": "code",
   "execution_count": null,
   "id": "15f5b698",
   "metadata": {
    "scrolled": true
   },
   "outputs": [],
   "source": [
    "# Checking for missing values\n",
    "print(car_data.isnull().sum())"
   ]
  },
  {
   "cell_type": "code",
   "execution_count": null,
   "id": "5e0784b6",
   "metadata": {},
   "outputs": [],
   "source": [
    "# Checking for duplicates\n",
    "print(car_data.duplicated().sum())\n"
   ]
  },
  {
   "cell_type": "code",
   "execution_count": null,
   "id": "cd58c995",
   "metadata": {},
   "outputs": [],
   "source": [
    "# Removing duplicates\n",
    "car_data = car_data.drop_duplicates()"
   ]
  },
  {
   "cell_type": "code",
   "execution_count": null,
   "id": "b27520e0",
   "metadata": {},
   "outputs": [],
   "source": [
    "# Splitting the 'name' column to create 'brand' and 'model' columns\n",
    "car_data[['brand', 'model']] = car_data['name'].str.split(' ', 1, expand=True)\n",
    "\n",
    "# Displaying the first few rows to check the new columns\n",
    "car_data.head()\n"
   ]
  },
  {
   "cell_type": "code",
   "execution_count": null,
   "id": "9ebaf6c2",
   "metadata": {},
   "outputs": [],
   "source": [
    "car_data['brand'].value_counts()"
   ]
  },
  {
   "cell_type": "code",
   "execution_count": null,
   "id": "d89af34b",
   "metadata": {},
   "outputs": [],
   "source": [
    "car_data['brand'] = car_data['brand'].replace(['Jaguar', 'Mitsubishi', 'Land', 'Volvo', 'Jeep', 'Ambassador', 'MG', 'OpelCorsa',\n",
    "                                               'Daewoo',\n",
    "                                      'Force', 'Isuzu', 'Kia'], 'Others')"
   ]
  },
  {
   "cell_type": "code",
   "execution_count": null,
   "id": "2ff6b840",
   "metadata": {},
   "outputs": [],
   "source": [
    "car_data['brand'].value_counts()"
   ]
  },
  {
   "cell_type": "code",
   "execution_count": null,
   "id": "3cdf3544",
   "metadata": {},
   "outputs": [],
   "source": [
    "print(car_data['model'].value_counts())"
   ]
  },
  {
   "cell_type": "code",
   "execution_count": null,
   "id": "56ec8b9d",
   "metadata": {},
   "outputs": [],
   "source": [
    "for brand in car_data['model'].unique():\n",
    "    print(brand)\n",
    "    if brand in car_data['model']:\n",
    "        print(brand)\n",
    "        if car_data[brand].value_counts() <= 10:\n",
    "            car_data[brand] = 'others'\n",
    "            print(brand)"
   ]
  },
  {
   "cell_type": "code",
   "execution_count": null,
   "id": "f4940697",
   "metadata": {},
   "outputs": [],
   "source": [
    "model_counts = car_data['model'].value_counts()"
   ]
  },
  {
   "cell_type": "code",
   "execution_count": null,
   "id": "c8c6bacc",
   "metadata": {},
   "outputs": [],
   "source": [
    "models_to_replace = model_counts[model_counts <= 10].index\n",
    "car_data['model'] = car_data['model'].replace(models_to_replace, 'others')"
   ]
  },
  {
   "cell_type": "code",
   "execution_count": null,
   "id": "9ab3bc76",
   "metadata": {},
   "outputs": [],
   "source": [
    "car_data['model'] == '800 AC'"
   ]
  },
  {
   "cell_type": "code",
   "execution_count": null,
   "id": "30dc436f",
   "metadata": {},
   "outputs": [],
   "source": [
    "car_data['model'].unique()"
   ]
  },
  {
   "cell_type": "code",
   "execution_count": 5,
   "id": "855e4ff8",
   "metadata": {},
   "outputs": [
    {
     "name": "stdout",
     "output_type": "stream",
     "text": [
      "Index(['name', 'fuel', 'seller_type', 'transmission', 'owner'], dtype='object')\n",
      "Index(['year', 'selling_price', 'km_driven'], dtype='object')\n"
     ]
    }
   ],
   "source": [
    "cat_cols = car_data.dtypes[car_data.dtypes == 'object'].index\n",
    "num_cols = car_data.dtypes[car_data.dtypes != 'object'].index\n",
    "print(cat_cols)\n",
    "print(num_cols)"
   ]
  },
  {
   "cell_type": "code",
   "execution_count": 6,
   "id": "10f7414b",
   "metadata": {},
   "outputs": [
    {
     "data": {
      "image/png": "[encoded data removed]",
      "text/plain": [
       "<Figure size 640x480 with 1 Axes>"
      ]
     },
     "metadata": {},
     "output_type": "display_data"
    }
   ],
   "source": [
    "plt.boxplot(car_data[num_cols])\n",
    "plt.show()"
   ]
  },
  {
   "cell_type": "code",
   "execution_count": null,
   "id": "84b8f0d4",
   "metadata": {},
   "outputs": [],
   "source": [
    "# for i in cat_cols:\n",
    "#     print(f'Feature: {i} | Unique Count : {car_data[i].nunique()}')"
   ]
  },
  {
   "cell_type": "code",
   "execution_count": null,
   "id": "a0139678",
   "metadata": {},
   "outputs": [],
   "source": [
    "# cols = ['fuel', 'seller_type', 'transmission']\n",
    "# plt.figure(figsize = (12, 11))\n",
    "# for i in range(len(cols)):\n",
    "#     plt.subplot(2, 2, i+1)\n",
    "#     ax = sns.countplot(y = car_data[cols[i]])\n",
    "#     ax.bar_label(ax.containers[0])\n",
    "#     plt.title(f'Countplot for {cols[i]}')\n",
    "# plt.show()"
   ]
  },
  {
   "cell_type": "code",
   "execution_count": null,
   "id": "779dcf7b",
   "metadata": {},
   "outputs": [],
   "source": [
    "# ax = sns.countplot(y = car_data['name'], order = car_data['name'].value_counts().sort_values(ascending = False).index)\n",
    "# ax.bar_label(ax.containers[0])\n",
    "# plt.show()"
   ]
  },
  {
   "cell_type": "code",
   "execution_count": null,
   "id": "4bc09457",
   "metadata": {},
   "outputs": [],
   "source": [
    "# cols = ['fuel', 'seller_type', 'transmission']\n",
    "# plt.figure(figsize = (12, 11))\n",
    "# for i in range(len(cols)):\n",
    "#     plt.subplot(2, 2, i+1)\n",
    "#     sns.boxplot(x = car_data['selling_price'], y = car_data[cols[i]])\n",
    "#     plt.title(f'Boxplot for {cols[i]} wrt Price')\n",
    "# plt.show()"
   ]
  },
  {
   "cell_type": "code",
   "execution_count": null,
   "id": "76c1dd41",
   "metadata": {},
   "outputs": [],
   "source": [
    "# for i in num_cols:\n",
    "#     print(f'Feature: {i} | Unique Count : {car_data[i].nunique()}')"
   ]
  },
  {
   "cell_type": "code",
   "execution_count": null,
   "id": "ed6ec2fd",
   "metadata": {},
   "outputs": [],
   "source": [
    "# cols = ['year','km_driven']\n",
    "# plt.figure(figsize=(12,15))\n",
    "# for i in range(len(cols)):\n",
    "#     plt.subplot(2,2,i+1)\n",
    "#     ax = sns.countplot(x=car_data[cols[i]])\n",
    "#     ax.bar_label(ax.containers[0])\n",
    "#     plt.title(f'Countplot for {cols[i]}')\n",
    "# plt.show()"
   ]
  },
  {
   "cell_type": "code",
   "execution_count": null,
   "id": "c70801a4",
   "metadata": {},
   "outputs": [],
   "source": [
    "# corr = car_data[num_cols].corr()\n",
    "# corr"
   ]
  },
  {
   "cell_type": "code",
   "execution_count": null,
   "id": "b3f65542",
   "metadata": {},
   "outputs": [],
   "source": [
    "# plt.figure(figsize = (12, 12))\n",
    "# sns.heatmap(corr, annot = True,  cmap = \"RdBu\")\n",
    "# plt.show()"
   ]
  },
  {
   "cell_type": "code",
   "execution_count": null,
   "id": "9acadbd9",
   "metadata": {},
   "outputs": [],
   "source": [
    "# len(num_cols)\n",
    "# print(num_cols)"
   ]
  },
  {
   "cell_type": "code",
   "execution_count": null,
   "id": "a194672e",
   "metadata": {},
   "outputs": [],
   "source": [
    "# plt.figure(figsize = (12, 20))\n",
    "# for i in range(len(cols)):\n",
    "#     plt.subplot(4, 2, i+1)\n",
    "#     sns.boxplot(x = car_data[num_cols[i]])\n",
    "#     plt.title(f'Boxplot for {num_cols[i]}')\n",
    "# plt.show()"
   ]
  },
  {
   "cell_type": "code",
   "execution_count": null,
   "id": "112cb09a",
   "metadata": {},
   "outputs": [],
   "source": [
    "# a = car_data[['km_driven', 'selling_price']].describe(percentiles = [0.01, 0.02, 0.05, 0.95, 0.97, 0.98, 0.99]).T\n",
    "# a = a.iloc[:, 3:]\n",
    "# a"
   ]
  },
  {
   "cell_type": "code",
   "execution_count": null,
   "id": "16a4821d",
   "metadata": {},
   "outputs": [],
   "source": [
    "# cols = ['km_driven', 'selling_price']\n",
    "# for i in range(len(cols)):\n",
    "#     plt.subplot(1, 2, i+1)\n",
    "#     sns.boxplot(x = car_data[cols[i]])\n",
    "#     plt.title(f'Boxplot for {cols[i]}')\n",
    "# plt.show()"
   ]
  },
  {
   "cell_type": "code",
   "execution_count": null,
   "id": "7161a38c",
   "metadata": {},
   "outputs": [],
   "source": [
    "# df['Price'] = np.where(df['Price'] > 4.420000, 4.420000, df['Price'])\n",
    "# df['Weight'] = np.where(df['Weight'] > 167777.851536, 167777.851536, df['Weight'])"
   ]
  },
  {
   "cell_type": "code",
   "execution_count": null,
   "id": "4ee624fb",
   "metadata": {
    "scrolled": true
   },
   "outputs": [],
   "source": [
    "car_data.head()"
   ]
  },
  {
   "cell_type": "code",
   "execution_count": null,
   "id": "503709c0",
   "metadata": {},
   "outputs": [],
   "source": [
    "# Creating a new feature 'car_age'\n",
    "car_data['car_age'] = 2024 - car_data['year']  # Assuming the current year is 2024\n"
   ]
  },
  {
   "cell_type": "code",
   "execution_count": null,
   "id": "9c9d894d",
   "metadata": {},
   "outputs": [],
   "source": [
    "# Displaying summary statistics\n",
    "print(car_data.describe())"
   ]
  },
  {
   "cell_type": "code",
   "execution_count": null,
   "id": "7964e43c",
   "metadata": {},
   "outputs": [],
   "source": [
    "# Correlation matrix\n",
    "corr_matrix = car_data.corr()\n",
    "print(corr_matrix)"
   ]
  },
  {
   "cell_type": "code",
   "execution_count": null,
   "id": "ce711b99",
   "metadata": {
    "scrolled": false
   },
   "outputs": [],
   "source": [
    "# Setting the aesthetic style of the plots\n",
    "sns.set(style=\"whitegrid\")\n",
    "\n",
    "# Plotting distributions for numerical columns\n",
    "plt.figure(figsize=(14, 6))\n",
    "\n",
    "# Year of Manufacture distribution\n",
    "plt.subplot(1, 3, 1)\n",
    "sns.histplot(car_data['year'], kde=True)\n",
    "plt.title('Distribution of Year of Manufacture')\n",
    "\n",
    "# Selling Price distribution\n",
    "plt.subplot(1, 3, 2)\n",
    "sns.histplot(car_data['selling_price'], kde=True)\n",
    "plt.title('Distribution of Selling Price')\n",
    "\n",
    "# Kilometers Driven distribution\n",
    "plt.subplot(1, 3, 3)\n",
    "sns.histplot(car_data['km_driven'], kde=True)\n",
    "plt.title('Distribution of Kilometers Driven')\n",
    "\n",
    "plt.tight_layout()\n",
    "plt.show()"
   ]
  },
  {
   "cell_type": "code",
   "execution_count": null,
   "id": "41648752",
   "metadata": {},
   "outputs": [],
   "source": [
    "# Bar plots for categorical columns\n",
    "plt.figure(figsize=(14, 6))\n",
    "\n",
    "# Fuel type distribution\n",
    "plt.subplot(1, 3, 1)\n",
    "sns.countplot(data=car_data, x='fuel')\n",
    "plt.title('Fuel Type Distribution')\n",
    "\n",
    "# Seller type distribution\n",
    "plt.subplot(1, 3, 2)\n",
    "sns.countplot(data=car_data, x='seller_type')\n",
    "plt.title('Seller Type Distribution')\n",
    "\n",
    "# Transmission type distribution\n",
    "plt.subplot(1, 3, 3)\n",
    "sns.countplot(data=car_data, x='transmission')\n",
    "plt.title('Transmission Type Distribution')\n",
    "\n",
    "plt.tight_layout()\n",
    "plt.show()"
   ]
  },
  {
   "cell_type": "code",
   "execution_count": null,
   "id": "b7655fef",
   "metadata": {
    "scrolled": true
   },
   "outputs": [],
   "source": [
    "# Correlation heatmap\n",
    "plt.figure(figsize=(10, 6))\n",
    "sns.heatmap(corr_matrix, annot=False, cmap='coolwarm')\n",
    "plt.title('Correlation Matrix')\n",
    "plt.show()\n"
   ]
  },
  {
   "cell_type": "code",
   "execution_count": null,
   "id": "ce31b572",
   "metadata": {},
   "outputs": [],
   "source": [
    "car_data['brand'].unique()"
   ]
  },
  {
   "cell_type": "code",
   "execution_count": null,
   "id": "5269c903",
   "metadata": {},
   "outputs": [],
   "source": [
    "# Initializing the OrdinalEncoder\n",
    "encoder = OrdinalEncoder()\n",
    "\n",
    "# Fitting and transforming the 'Brand' column\n",
    "car_data['brand'] = encoder.fit_transform(car_data[['brand']])\n",
    "\n",
    "# Displaying the DataFrame with the encoded column\n",
    "car_data"
   ]
  },
  {
   "cell_type": "code",
   "execution_count": null,
   "id": "0570731e",
   "metadata": {},
   "outputs": [],
   "source": [
    "lb = LabelEncoder()"
   ]
  },
  {
   "cell_type": "code",
   "execution_count": null,
   "id": "3605a727",
   "metadata": {},
   "outputs": [],
   "source": [
    "lb_cols = ['fuel', 'seller_type', 'transmission', 'owner']"
   ]
  },
  {
   "cell_type": "code",
   "execution_count": null,
   "id": "04c3b245",
   "metadata": {},
   "outputs": [],
   "source": [
    "for i in lb_cols:\n",
    "    car_data[i] = lb.fit_transform(car_data[i])"
   ]
  },
  {
   "cell_type": "code",
   "execution_count": null,
   "id": "11b05f74",
   "metadata": {},
   "outputs": [],
   "source": [
    "car_data['owner'].value_counts()"
   ]
  },
  {
   "cell_type": "code",
   "execution_count": null,
   "id": "915d4353",
   "metadata": {},
   "outputs": [],
   "source": [
    "car_data"
   ]
  },
  {
   "cell_type": "code",
   "execution_count": null,
   "id": "51733a32",
   "metadata": {},
   "outputs": [],
   "source": [
    "# Defining the features (X) and the target variable (y)\n",
    "X = car_data.drop(['selling_price', 'name', 'year', 'model'], axis=1)\n",
    "y = car_data['selling_price']"
   ]
  },
  {
   "cell_type": "code",
   "execution_count": null,
   "id": "a1a372df",
   "metadata": {},
   "outputs": [],
   "source": [
    "# Splitting the data into training and testing sets\n",
    "X_train, X_test, y_train, y_test = train_test_split(X, y, test_size=0.2, random_state=42)"
   ]
  },
  {
   "cell_type": "code",
   "execution_count": null,
   "id": "9ff71526",
   "metadata": {},
   "outputs": [],
   "source": [
    "# Initializing models\n",
    "models = {\n",
    "    'Linear Regression': LinearRegression(),\n",
    "    'Random Forest': RandomForestRegressor(),\n",
    "    'Gradient Boosting': GradientBoostingRegressor()\n",
    "}\n"
   ]
  },
  {
   "cell_type": "code",
   "execution_count": null,
   "id": "4690533b",
   "metadata": {},
   "outputs": [],
   "source": [
    "# Trainning models\n",
    "for name, model in models.items():\n",
    "    model.fit(X_train, y_train)"
   ]
  },
  {
   "cell_type": "code",
   "execution_count": null,
   "id": "917bbf6c",
   "metadata": {},
   "outputs": [],
   "source": [
    "# Evaluating models\n",
    "for name, model in models.items():\n",
    "    y_pred = model.predict(X_test)\n",
    "    mse = mean_squared_error(y_test, y_pred)\n",
    "    r2 = r2_score(y_test, y_pred)\n",
    "    print(f'{name} - Mean Squared Error: {mse}, R-squared: {r2}')"
   ]
  },
  {
   "cell_type": "code",
   "execution_count": null,
   "id": "f492325d",
   "metadata": {},
   "outputs": [],
   "source": [
    "# Defining hyperparameters grid\n",
    "param_grid = {\n",
    "    'n_estimators': [50, 100, 150],\n",
    "    'max_depth': [3, 5, 7]\n",
    "}\n",
    "\n",
    "# Initializing GridSearchCV\n",
    "grid_search = GridSearchCV(RandomForestRegressor(), param_grid, cv=5)\n",
    "grid_search.fit(X_train, y_train)\n"
   ]
  },
  {
   "cell_type": "code",
   "execution_count": null,
   "id": "7398d00c",
   "metadata": {},
   "outputs": [],
   "source": [
    "# Getting best parameters\n",
    "best_params = grid_search.best_params_\n",
    "\n",
    "# Re-trainning the model with best parameters\n",
    "best_model = RandomForestRegressor(**best_params)\n",
    "best_model.fit(X_train, y_train)"
   ]
  },
  {
   "cell_type": "code",
   "execution_count": null,
   "id": "3ff07ef9",
   "metadata": {},
   "outputs": [],
   "source": [
    "#Final Evaluating\n",
    "y_pred_final = best_model.predict(X_test)\n",
    "mse_final = mean_squared_error(y_test, y_pred_final)\n",
    "r2_final = r2_score(y_test, y_pred_final)\n",
    "print(f'Final Model - Mean Squared Error: {mse_final}, R-squared: {r2_final}')"
   ]
  },
  {
   "cell_type": "code",
   "execution_count": null,
   "id": "e34979d5",
   "metadata": {},
   "outputs": [],
   "source": [
    "# Saving the model to a file\n",
    "model_filename = 'best_model.joblib'\n",
    "joblib.dump(best_model, model_filename)\n",
    "print(f'Model saved to {model_filename}')\n"
   ]
  },
  {
   "cell_type": "code",
   "execution_count": null,
   "id": "2cd1006a",
   "metadata": {},
   "outputs": [],
   "source": [
    "# Loading the model from the file\n",
    "loaded_model = joblib.load(model_filename)\n",
    "print(f'Model loaded from {model_filename}')\n"
   ]
  },
  {
   "cell_type": "code",
   "execution_count": null,
   "id": "37a3bf3b",
   "metadata": {},
   "outputs": [],
   "source": [
    "# Making predictions with the loaded model\n",
    "y_pred = loaded_model.predict(X_test)\n",
    "\n",
    "mse = mean_squared_error(y_test, y_pred)\n",
    "r2 = r2_score(y_test, y_pred)\n",
    "print(f'Mean Squared Error: {mse}, R-squared: {r2}')"
   ]
  },
  {
   "cell_type": "code",
   "execution_count": null,
   "id": "5a3175bd",
   "metadata": {
    "scrolled": true
   },
   "outputs": [],
   "source": [
    "#Loading the original dataset\n",
    "data = pd.read_csv(\"C:\\/Users\\/risha\\/Downloads\\/CAR DETAILS.csv\")\n",
    "\n",
    "#Randomly picking 20 data points from the dataset\n",
    "random_data = data.sample(n=20, random_state=42)\n",
    "\n",
    "#Preparing the random data for prediction\n",
    "# Performing data cleaning and preprocessing similar to the training data\n",
    "X_random = random_data.drop(['selling_price', 'name'], axis=1)\n",
    "y_random = random_data['selling_price']\n",
    "\n",
    "# One-hot encoding for categorical variables\n",
    "X_random = pd.get_dummies(X_random, columns=['fuel', 'seller_type', 'transmission', 'owner'])\n",
    "\n",
    "# Retrieving the feature names used during model training\n",
    "model_columns = loaded_model.feature_names_in_\n",
    "\n",
    "# Adding missing columns with default values (e.g., 0)\n",
    "for col in model_columns:\n",
    "    if col not in X_random.columns:\n",
    "        X_random[col] = 0\n",
    "\n",
    "# Ensuring the columns are in the same order\n",
    "X_random = X_random[model_columns]\n",
    "\n",
    "# Applying the model to the randomly picked data points and evaluate\n",
    "y_random_pred = loaded_model.predict(X_random)\n",
    "\n",
    "# Evaluating the model\n",
    "mse_random = mean_squared_error(y_random, y_random_pred)\n",
    "r2_random = r2_score(y_random, y_random_pred)\n",
    "print(f'Mean Squared Error on Random Data: {mse_random}')\n",
    "print(f'R-squared on Random Data: {r2_random}')\n"
   ]
  },
  {
   "cell_type": "code",
   "execution_count": null,
   "id": "0c9c304c",
   "metadata": {},
   "outputs": [],
   "source": []
  }
 ],
 "metadata": {
  "kernelspec": {
   "display_name": "Python 3 (ipykernel)",
   "language": "python",
   "name": "python3"
  },
  "language_info": {
   "codemirror_mode": {
    "name": "ipython",
    "version": 3
   },
   "file_extension": ".py",
   "mimetype": "text/x-python",
   "name": "python",
   "nbconvert_exporter": "python",
   "pygments_lexer": "ipython3",
   "version": "3.11.3"
  }
 },
 "nbformat": 4,
 "nbformat_minor": 5
}
